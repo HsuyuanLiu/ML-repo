{
 "cells": [
  {
   "cell_type": "code",
   "execution_count": 12,
   "metadata": {},
   "outputs": [],
   "source": [
    "import numpy as np\n",
    "import pandas as pd\n",
    "from scipy import stats\n"
   ]
  },
  {
   "cell_type": "code",
   "execution_count": 13,
   "metadata": {},
   "outputs": [],
   "source": [
    "import os\n",
    "os.environ[\"KMP_DUPLICATE_LIB_OK\"]=\"TRUE\"\n"
   ]
  },
  {
   "cell_type": "code",
   "execution_count": 14,
   "metadata": {},
   "outputs": [],
   "source": [
    "dataset=pd.read_csv('wine.data')\n",
    "dataset=np.array(dataset)\n",
    "np.random.shuffle(dataset)\n",
    "train_dataset,test_dataset=dataset[:round(0.7*len(dataset))],dataset[round(0.7*len(dataset)):len(dataset)]"
   ]
  },
  {
   "cell_type": "markdown",
   "metadata": {},
   "source": [
    "使用正态分布计算连续值的先验概率，这一过程因此不需要考虑平滑化问题。"
   ]
  },
  {
   "cell_type": "code",
   "execution_count": 15,
   "metadata": {},
   "outputs": [],
   "source": [
    "mean=[]\n",
    "variable=[]\n",
    "train_dataset=sorted(train_dataset,key=lambda x:x[0])\n",
    "index1,index2=0,0\n",
    "for i in range(len(train_dataset)):\n",
    "    if(train_dataset[i][0])==1:\n",
    "        index1=i+1\n",
    "    elif(train_dataset[i][0])==2:\n",
    "        index2=i+1\n",
    "\n",
    "#print(train_dataset[index1])\n",
    "count_ratio=[index1/len(train_dataset),index2/len(train_dataset),1-index1/len(train_dataset)-index2/len(train_dataset)]\n",
    "index_map=[0,index1,index2,len(train_dataset)]\n",
    "train_dataset=pd.DataFrame(train_dataset)\n",
    "#print(train_dataset)"
   ]
  },
  {
   "cell_type": "code",
   "execution_count": 16,
   "metadata": {},
   "outputs": [],
   "source": [
    "record_mean=np.zeros([3,13])\n",
    "record_var=np.zeros([3,13])"
   ]
  },
  {
   "cell_type": "code",
   "execution_count": 17,
   "metadata": {},
   "outputs": [
    {
     "name": "stdout",
     "output_type": "stream",
     "text": [
      "[[2.19118151e-01 5.79179328e-01 4.88282353e-02 4.75843697e+00\n",
      "  1.19011765e+02 8.81205042e-02 1.73937479e-01 5.99462185e-03\n",
      "  1.79152605e-01 1.43093580e+00 1.37070588e-02 1.09807899e-01\n",
      "  0.00000000e+00]\n",
      " [3.39192453e-01 1.02751925e+00 1.01440112e-01 1.14575856e+01\n",
      "  3.15763802e+02 2.82168728e-01 5.86655940e-01 1.35503843e-02\n",
      "  4.15237736e-01 9.41576799e-01 4.61012607e-02 2.83743990e-01\n",
      "  0.00000000e+00]\n",
      " [2.78548235e-01 1.21424790e+00 3.40667227e-02 5.63949580e+00\n",
      "  1.24652101e+02 1.04394622e-01 8.39882353e-02 1.67146218e-02\n",
      "  1.39388739e-01 4.85168271e+00 1.41146218e-02 6.57028571e-02\n",
      "  0.00000000e+00]]\n"
     ]
    }
   ],
   "source": [
    "statisc=[0,0,0]\n",
    "for index in range(0,3):\n",
    "    for i in range(0,13):\n",
    "        mean_x=np.mean(train_dataset[i][index_map[index]:index_map[index+1]])\n",
    "        variable=np.var(train_dataset[i][index_map[index]:index_map[index+1]],ddof=1)\n",
    "        record_mean[index][i-1]=mean_x\n",
    "        record_var[index][i-1]=variable\n",
    "#print(record_mean)\n",
    "print(record_var)\n",
    "    "
   ]
  },
  {
   "cell_type": "code",
   "execution_count": 18,
   "metadata": {},
   "outputs": [],
   "source": [
    "def normal_arrtribution(x,mean,var):\n",
    "    #print(stats.norm.pdf(x, mean, var))\n",
    "    return stats.norm.pdf(x, mean, var)"
   ]
  },
  {
   "cell_type": "code",
   "execution_count": 19,
   "metadata": {},
   "outputs": [],
   "source": [
    "def calculate_likelyhood(data,group):\n",
    "    possible=[]\n",
    "    for i in range(1,13):\n",
    "        possible.append(normal_arrtribution(data[i],record_mean[group][i-1],record_var[group][i-1]))\n",
    "    likelyhood=1\n",
    "    for iternum in range(0,len(possible)):\n",
    "        likelyhood= likelyhood*possible[iternum]\n",
    "    return likelyhood"
   ]
  },
  {
   "cell_type": "code",
   "execution_count": 20,
   "metadata": {},
   "outputs": [],
   "source": [
    "confusion_matrix=np.zeros([3,3])\n",
    "def test_set_cul():\n",
    "    for index in range(0,len(test_dataset)):\n",
    "        caled=[]\n",
    "        for iterable in range(0,3):\n",
    "            caled_num=calculate_likelyhood(test_dataset[index],iterable)*count_ratio[iterable]\n",
    "            caled.append(caled_num)\n",
    "        res=np.argmax(caled) #Hypotheized\n",
    "        #print('  ')\n",
    "        true_class=round(test_dataset[index][0])-1 \n",
    "        confusion_matrix[res][true_class]=confusion_matrix[res][true_class]+1\n",
    "    #print(confusion_matrix)\n",
    "test_set_cul()"
   ]
  },
  {
   "cell_type": "code",
   "execution_count": 21,
   "metadata": {},
   "outputs": [
    {
     "name": "stdout",
     "output_type": "stream",
     "text": [
      "[[1.0, 0], [0.9372433320645259, 1], [0.9932653043109044, 0], [1.0, 0], [1.0, 1], [1.0, 0], [0.999988020439612, 1], [1.0, 1], [1.0, 1], [1.0, 1], [1.0, 0], [1.0, 1], [1.0, 1], [0.9999999999999954, 0], [1.0, 1], [1.0, 1], [1.0, 1], [1.0, 1], [0.998730623985682, 1], [1.0, 1], [0.9999993162362752, 1], [1.0, 0], [0.9999967163798701, 1], [1.0, 1], [0.9999999999999917, 1], [1.0, 1], [1.0, 1], [1.0, 1], [1.0, 1], [0.9999996647259569, 1], [0.9999839135750465, 0], [1.0, 1], [1.0, 0], [0.9163718664598666, 0], [1.0, 1], [0.9999999999999993, 1], [0.9999971700655543, 0], [1.0, 0], [1.0, 1], [0.9171599969498342, 0], [0.7541210836324308, 1], [0.9999999930533395, 0], [0.9999999999988665, 1], [0.8036530514461113, 1], [0.9999998531685812, 1], [1.0, 0], [0.9535747885267271, 1], [1.0, 1], [1.0, 0], [1.0, 1], [1.0, 1], [1.0, 0], [1.0, 1]]\n"
     ]
    }
   ],
   "source": [
    "import torch\n",
    "def test_set_cul_ROC():\n",
    "    mat_belief=[]\n",
    "    predicted=[]\n",
    "    for index in range(0,len(test_dataset)):\n",
    "        caled=[]\n",
    "        for iterable in range(0,3):\n",
    "            caled_num=calculate_likelyhood(test_dataset[index],iterable)\n",
    "            caled.append(caled_num)\n",
    "        sum_class=sum(caled)\n",
    "        for class_iter in range(0,3):\n",
    "            caled[class_iter]=caled[class_iter]/sum_class\n",
    "            score=max(caled)\n",
    "            if round(test_dataset[index][0])-1 ==np.argmax(caled):\n",
    "                right=1\n",
    "            else:\n",
    "                right=0\n",
    "            #print(caled[class_iter])\n",
    "        mat_belief.append([score,right])\n",
    "\n",
    "    return mat_belief\n",
    "res=test_set_cul_ROC()\n",
    "print(res)"
   ]
  },
  {
   "cell_type": "code",
   "execution_count": 22,
   "metadata": {},
   "outputs": [],
   "source": [
    "ROC_belief_therehold=np.arange(0,1,0.05)"
   ]
  },
  {
   "cell_type": "code",
   "execution_count": 23,
   "metadata": {},
   "outputs": [
    {
     "name": "stdout",
     "output_type": "stream",
     "text": [
      "The precison of type 0 is 100.000000%\n",
      "The recall of type 0 is 34.782609%\n",
      "The F-measure of type 0 is 51.612903%\n",
      "\n",
      "\n",
      "The precison of type 1 is 37.777778%\n",
      "The recall of type 1 is 100.000000%\n",
      "The F-measure of type 1 is 54.838710%\n",
      "\n",
      "\n",
      "The precison of type 2 is nan%\n",
      "The recall of type 2 is 0.000000%\n",
      "The F-measure of type 2 is nan%\n",
      "\n",
      "\n"
     ]
    },
    {
     "name": "stderr",
     "output_type": "stream",
     "text": [
      "C:\\Users\\32068\\AppData\\Local\\Temp/ipykernel_21416/807471060.py:2: RuntimeWarning: invalid value encountered in double_scalars\n",
      "  return confusion_matrix[type][type]/sum(confusion_matrix[type,:])\n",
      "C:\\Users\\32068\\AppData\\Local\\Temp/ipykernel_21416/807471060.py:10: RuntimeWarning: divide by zero encountered in double_scalars\n",
      "  F=2/((1/prec)+(1/reca))\n"
     ]
    }
   ],
   "source": [
    "def precision(type):\n",
    "    return confusion_matrix[type][type]/sum(confusion_matrix[type,:])\n",
    "def recall(type):\n",
    "    return confusion_matrix[type][type]/sum(confusion_matrix[:,type])\n",
    "def F_ratio(type):\n",
    "    prec=precision(type)\n",
    "    print('The precison of type {:n} is {:%}'.format(type, prec))\n",
    "    reca=recall(type)\n",
    "    print('The recall of type {:n} is {:%}'.format(type, reca))\n",
    "    F=2/((1/prec)+(1/reca))\n",
    "    print('The F-measure of type {:n} is {:%}'.format(type, F))\n",
    "    print('\\n')\n",
    "for i in np.arange(3):\n",
    "    F_ratio(i)\n"
   ]
  },
  {
   "cell_type": "markdown",
   "metadata": {},
   "source": [
    "多少正样本被预测出来/多少负样本"
   ]
  },
  {
   "cell_type": "code",
   "execution_count": 24,
   "metadata": {},
   "outputs": [
    {
     "name": "stdout",
     "output_type": "stream",
     "text": [
      "[0.75412108 0.80365305 0.91637187 0.91716    0.93724333 0.95357479\n",
      " 0.9932653  0.99873062 0.99998391 0.99998802 0.99999672 0.99999717\n",
      " 0.99999932 0.99999966 0.99999985 0.99999999 1.         1.\n",
      " 1.         1.         1.         1.         1.         1.\n",
      " 1.         1.         1.         1.         1.         1.\n",
      " 1.         1.         1.         1.         1.         1.\n",
      " 1.         1.         1.         1.         1.         1.\n",
      " 1.         1.         1.         1.         1.         1.\n",
      " 1.         1.         1.         1.         1.        ]\n",
      "[1. 1. 0. 0. 1. 1. 0. 1. 0. 1. 1. 0. 1. 1. 1. 0. 1. 1. 0. 1. 0. 0. 0. 0.\n",
      " 0. 0. 0. 0. 0. 0. 1. 1. 1. 1. 1. 1. 1. 1. 1. 1. 1. 1. 1. 1. 1. 1. 1. 1.\n",
      " 1. 1. 1. 1. 1.]\n"
     ]
    }
   ],
   "source": [
    "res=sorted(res)\n",
    "scores,labels=np.zeros(len(res)),np.zeros(len(res))\n",
    "for item in range(len(res)):\n",
    "    scores[item]=res[item][0]\n",
    "    labels[item]=res[item][1]\n",
    "print(scores)\n",
    "print(labels)\n"
   ]
  },
  {
   "cell_type": "code",
   "execution_count": 25,
   "metadata": {},
   "outputs": [
    {
     "data": {
      "image/png": "[encoded data removed]",
      "text/plain": [
       "<Figure size 432x288 with 1 Axes>"
      ]
     },
     "metadata": {
      "needs_background": "light"
     },
     "output_type": "display_data"
    },
    {
     "name": "stdout",
     "output_type": "stream",
     "text": [
      "the Area under the curve is: 0.6029411764705884\n"
     ]
    }
   ],
   "source": [
    "def plotROC(predStrengths, classLabels):\n",
    "    cur=(0.0, 0.0)\n",
    "    numPosClass = np.sum(np.array(classLabels) == 1.0)\n",
    "    yStep = 1.0/numPosClass\n",
    "    xStep = 1.0/(len(classLabels)-numPosClass)\n",
    "    sortedIndicies = np.argsort(-np.array(predStrengths.flatten()))\n",
    "    fig = plt.figure()\n",
    "    fig.clf()\n",
    "    ySum = 0.0\n",
    "    ax = plt.subplot(111)\n",
    "    for index in sortedIndicies:\n",
    "        if classLabels[index] == 1.0:\n",
    "            delY = yStep; delX=0\n",
    "        else:\n",
    "            delY = 0; delX = xStep\n",
    "            ySum += cur[1]\n",
    "        ax.plot([cur[0], cur[0]+delX], [cur[1], cur[1]+delY], c='b')\n",
    "        cur = (cur[0]+delX, cur[1]+delY)\n",
    "    ax.plot([0, 1], [0, 1], 'y--')\n",
    "    ax.axis([0, 1, 0, 1])\n",
    "    plt.xlabel('False Positve Rate')\n",
    "    plt.ylabel('True Postive Rate')\n",
    "    plt.title('ROC curve for Naive Bayes Classification')\n",
    "    ax.axis([0, 1, 0, 1])\n",
    "    plt.show()\n",
    "    print('the Area under the curve is:', ySum*xStep)\n",
    "import matplotlib.pyplot as plt\n",
    "plotROC(scores,labels)"
   ]
  }
 ],
 "metadata": {
  "interpreter": {
   "hash": "b2345e6128660d800caeeaf1f3a6936fcd09960590a8a89cf9fb390fc735dae0"
  },
  "kernelspec": {
   "display_name": "Python 3 (ipykernel)",
   "language": "python",
   "name": "python3"
  },
  "language_info": {
   "codemirror_mode": {
    "name": "ipython",
    "version": 3
   },
   "file_extension": ".py",
   "mimetype": "text/x-python",
   "name": "python",
   "nbconvert_exporter": "python",
   "pygments_lexer": "ipython3",
   "version": "3.8.8"
  },
  "latex_envs": {
   "LaTeX_envs_menu_present": true,
   "autoclose": false,
   "autocomplete": true,
   "bibliofile": "biblio.bib",
   "cite_by": "apalike",
   "current_citInitial": 1,
   "eqLabelWithNumbers": true,
   "eqNumInitial": 1,
   "hotkeys": {
    "equation": "Ctrl-E",
    "itemize": "Ctrl-I"
   },
   "labels_anchors": false,
   "latex_user_defs": false,
   "report_style_numbering": false,
   "user_envs_cfg": false
  },
  "varInspector": {
   "cols": {
    "lenName": 16,
    "lenType": 16,
    "lenVar": 40
   },
   "kernels_config": {
    "python": {
     "delete_cmd_postfix": "",
     "delete_cmd_prefix": "del ",
     "library": "var_list.py",
     "varRefreshCmd": "print(var_dic_list())"
    },
    "r": {
     "delete_cmd_postfix": ") ",
     "delete_cmd_prefix": "rm(",
     "library": "var_list.r",
     "varRefreshCmd": "cat(var_dic_list()) "
    }
   },
   "types_to_exclude": [
    "module",
    "function",
    "builtin_function_or_method",
    "instance",
    "_Feature"
   ],
   "window_display": false
  }
 },
 "nbformat": 4,
 "nbformat_minor": 2
}
