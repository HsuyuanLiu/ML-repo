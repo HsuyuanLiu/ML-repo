{
 "cells": [
  {
   "cell_type": "code",
   "execution_count": 1,
   "metadata": {},
   "outputs": [],
   "source": [
    "import numpy as np\n",
    "import pandas as pd\n",
    "from collections import Counter\n",
    "import math"
   ]
  },
  {
   "cell_type": "code",
   "execution_count": 2,
   "metadata": {},
   "outputs": [
    {
     "name": "stdout",
     "output_type": "stream",
     "text": [
      "    色泽  根蒂  敲声  纹理 好瓜\n",
      "0   青绿  蜷缩  浊响  清晰  是\n",
      "1   乌黑  蜷缩  沉闷  清晰  是\n",
      "2   乌黑  蜷缩  浊响  清晰  是\n",
      "3   青绿  蜷缩  沉闷  清晰  是\n",
      "4   浅白  蜷缩  浊响  清晰  是\n",
      "5   青绿  稍蜷  浊响  清晰  是\n",
      "6   乌黑  稍蜷  浊响  稍糊  是\n",
      "7   乌黑  稍蜷  浊响  清晰  是\n",
      "8   乌黑  稍蜷  沉闷  稍糊  否\n",
      "9   青绿  硬挺  清脆  清晰  否\n",
      "10  浅白  硬挺  清脆  模糊  否\n",
      "11  浅白  蜷缩  浊响  模糊  否\n",
      "12  青绿  稍蜷  浊响  稍糊  否\n",
      "13  浅白  稍蜷  沉闷  稍糊  否\n",
      "14  浅白  蜷缩  浊响  模糊  否\n",
      "15  青绿  蜷缩  沉闷  稍糊  否\n"
     ]
    }
   ],
   "source": [
    "water_train1=pd.read_csv(\"./Watermelon-train1.csv\",encoding='gb2312')\n",
    "labels_origin=['色泽','根蒂','敲声','纹理','好瓜']\n",
    "\n",
    "water_train1=water_train1[labels_origin]\n",
    "water_label=water_train1[\"好瓜\"]\n",
    "print(water_train1)\n",
    "watertest1=pd.read_csv(\"./Watermelon-test1.csv\",encoding='gb2312')\n",
    "label_test=labels_origin[:]\n",
    "watertest1=watertest1[label_test]\n",
    "#\n",
    "# print(watertest1)"
   ]
  },
  {
   "cell_type": "code",
   "execution_count": 3,
   "metadata": {},
   "outputs": [
    {
     "name": "stdout",
     "output_type": "stream",
     "text": [
      "   色泽  根蒂  敲声  纹理     密度 好瓜\n",
      "0  乌黑  稍蜷  浊响  清晰  0.403  是\n",
      "1  青绿  稍蜷  浊响  稍糊  0.481  是\n",
      "2  乌黑  稍蜷  浊响  清晰  0.337  是\n",
      "3  乌黑  稍蜷  沉闷  稍糊  0.666  否\n",
      "4  青绿  硬挺  清脆  清晰  0.243  否\n"
     ]
    }
   ],
   "source": [
    "water_train2=pd.read_csv(\"./Watermelon-train2.csv\",encoding='gb2312')\n",
    "watertest2=pd.read_csv(\"./Watermelon-test2.csv\",encoding='gb2312')\n",
    "labels_origin2=['色泽','根蒂','敲声','纹理','密度','好瓜']\n",
    "watertest2=watertest2[labels_origin2]\n",
    "water_train2=water_train2[labels_origin2]\n",
    "print(watertest2)"
   ]
  },
  {
   "cell_type": "code",
   "execution_count": 4,
   "metadata": {},
   "outputs": [],
   "source": [
    "from collections import Counter\n",
    "import math\n",
    "def entropy(dataset):\n",
    "    label_values = dataset[dataset.columns[-1]]\n",
    "    counts =  label_values.value_counts()\n",
    "    Ent = 0\n",
    "    for c in label_values.unique():\n",
    "        freq = counts[c]/len(label_values) \n",
    "        Ent =Ent- freq*math.log(freq,2)\n",
    "    return Ent"
   ]
  },
  {
   "cell_type": "code",
   "execution_count": 5,
   "metadata": {},
   "outputs": [],
   "source": [
    "def ration(group,length_data):\n",
    "    ratio=len(group)/length_data\n",
    "    return (ratio)*entropy(group)\n",
    "def gain_col(dataset,col):\n",
    "    ent_gross=entropy(dataset)\n",
    "    #print(dataset.groupby(col))\n",
    "    data_grounp=dataset.groupby(col)\n",
    "    ent_sum=0\n",
    "    for name,item in data_grounp:\n",
    "        ent_sum+=ration(item,len(dataset))\n",
    "    return ent_gross-ent_sum\n",
    "\n"
   ]
  },
  {
   "cell_type": "code",
   "execution_count": 6,
   "metadata": {},
   "outputs": [],
   "source": [
    "def max_col(dataset):\n",
    "    max_info_gain=0\n",
    "    labels=dataset.columns[:-1]\n",
    "    #print(labels)\n",
    "    max_label=None\n",
    "    for col in labels:\n",
    "        gain=gain_col(dataset,col)\n",
    "        if gain>max_info_gain:\n",
    "            max_info_gain=gain\n",
    "            max_label=col\n",
    "    return max_label"
   ]
  },
  {
   "cell_type": "code",
   "execution_count": 7,
   "metadata": {},
   "outputs": [],
   "source": [
    "def decisiontree_fit(dataset):\n",
    "    data=dataset[labels_origin]\n",
    "    label=dataset.iloc[:,-1]\n",
    "def get_type(dataset,loc):\n",
    "    return  len(Counter([element for element in dataset[loc]]))\n",
    "def get_most_label(labels):\n",
    "    return (labels.value_counts()).idxmax()\n",
    "def get_mid_rep(dataset,col):\n",
    "    to_get=sorted(dataset[col])\n",
    "    lis=[]\n",
    "    for item in np.arange(len(to_get)-1):\n",
    "        lis.append((to_get[item]+to_get[item+1])/2)\n",
    "    return lis\n",
    "    "
   ]
  },
  {
   "cell_type": "code",
   "execution_count": 8,
   "metadata": {},
   "outputs": [
    {
     "name": "stdout",
     "output_type": "stream",
     "text": [
      "{'纹理': {'模糊': '否', '清晰': {'根蒂': {'硬挺': '否', '稍蜷': '是', '蜷缩': '是'}}, '稍糊': {'色泽': {'乌黑': {'敲声': {'沉闷': '否', '浊响': '是'}}, '浅白': '否', '青绿': '否'}}}}\n"
     ]
    }
   ],
   "source": [
    "def decision_tree(dataset,label_list):\n",
    "    feature = dataset.columns[:-1]\n",
    "    label_list = dataset.iloc[:, -1]\n",
    "    if len(feature)==0 or get_type(dataset,feature)==1:\n",
    "        return get_most_label(label_list)\n",
    "    elif len(pd.unique(label_list)) == 1:\n",
    "        return label_list.values[0]\n",
    "    bestAttr = max_col(dataset)\n",
    "    tree = {bestAttr: {}}\n",
    "    for attri_value,tree_data in dataset.groupby(by=bestAttr):\n",
    "        if len(tree_data) == 0:\n",
    "            tree[bestAttr][attri_value] = get_most_label(label_list)\n",
    "        else:\n",
    "            new_data = tree_data.drop(bestAttr,axis=1)\n",
    "            tree[bestAttr][attri_value] = decision_tree(new_data,water_label)\n",
    "    return tree\n",
    "decision_tree = decision_tree(water_train1,water_label)\n",
    "print(decision_tree)\n"
   ]
  },
  {
   "cell_type": "code",
   "execution_count": 9,
   "metadata": {},
   "outputs": [
    {
     "name": "stdout",
     "output_type": "stream",
     "text": [
      "Index(['色泽', '根蒂', '敲声', '纹理', '好瓜'], dtype='object')\n",
      "Accuracy: 0.700000\n"
     ]
    }
   ],
   "source": [
    "def predict(tree, data):\n",
    "    feature = list(tree.keys())[0]\n",
    "    #print(feature)\n",
    "    label = data[feature]\n",
    "    next_tree = tree[feature][label]\n",
    "    if type(next_tree) == str:\n",
    "        return next_tree\n",
    "    else:\n",
    "        return predict(next_tree, data)\n",
    "print(watertest1.columns)\n",
    "labels=watertest1['好瓜']\n",
    "acc=0\n",
    "for num in np.arange(len(watertest1)):\n",
    "    if predict(decision_tree ,watertest1.loc[num,:])==labels[num]:\n",
    "        acc+=1\n",
    "print('Accuracy: %f'%(acc/len(watertest1)))"
   ]
  },
  {
   "cell_type": "code",
   "execution_count": 10,
   "metadata": {},
   "outputs": [],
   "source": [
    "labels=[0,0,0,0,1,0]\n",
    "label_dict={}\n",
    "for index, label in zip(water_train2, labels):\n",
    "    label_dict[index] = label\n",
    "#print(label_dict)"
   ]
  },
  {
   "cell_type": "markdown",
   "metadata": {},
   "source": [
    "针对连续数的使用，将采取以下方式：\n"
   ]
  },
  {
   "cell_type": "code",
   "execution_count": 11,
   "metadata": {},
   "outputs": [],
   "source": [
    "\n",
    "\n",
    "def type_attri(dataset,attr):\n",
    "    if dataset[attr].dtype == 'float64':\n",
    "        return 1\n",
    "    return 0\n",
    "def discrete(dataset,attr):\n",
    "    ent_parent=entropy(dataset)\n",
    "    attribution = dataset[attr].unique()\n",
    "    entD = 0\n",
    "    for attri in attribution:\n",
    "        value = dataset[dataset[attr]== attri]\n",
    "        entD += len(value)/len(dataset)*entropy(value)\n",
    "    return (entropy(dataset)/ent_parent - entD/ent_parent,None)\n",
    "\n",
    "def contin(dataset,attr,mid_term):\n",
    "    entD = entropy(dataset)\n",
    "    gains = []\n",
    "    for item in mid_term:\n",
    "        data_posi = dataset[dataset[attr] > item]\n",
    "        data_neg = dataset[dataset[attr] <= item]\n",
    "        sum_Ent=ration(data_posi,len(data_posi))+ration(data_neg,len(data_neg))\n",
    "        gain_ratio = (entD - sum_Ent)/entD\n",
    "        gains.append((gain_ratio,item))\n",
    "    return max(gains)\n",
    "def gain(dataset,attr):\n",
    "    if type_attri(dataset,attr):\n",
    "        split_p = get_mid_rep(dataset,attr)\n",
    "        return contin(dataset,attr,split_p)\n",
    "    else:\n",
    "        return discrete(dataset,attr)\n",
    "def takeSecond(elem):\n",
    "    return elem[1]\n",
    "def split(dataset):\n",
    "    attrs = dataset.columns[:-1]\n",
    "    gain_list=[]\n",
    "    for item in attrs:\n",
    "        gain_list.append((item,gain(dataset,item)))\n",
    "    #print(gain_list)\n",
    "    gain_list.sort(key = takeSecond,reverse = True)\n",
    "    return gain_list[0]\n",
    "def generateTree(data,label_list):\n",
    "    label_values =  data.iloc[:, -1]\n",
    "    if len(label_values.unique()) == 1:\n",
    "        return label_values.values[0]\n",
    "    if data.shape[1] == 1 or (data.shape[1]==2 and len(data.T.ix[0].unique())==1):\n",
    "        return get_most_label(label_values)\n",
    "    bestAttr,(gain_attri,t_data) = split(data)\n",
    "    if t_data is None:\n",
    "        DecesionTree = {bestAttr:{}}\n",
    "        values = data[bestAttr].unique() \n",
    "        for val in values:\n",
    "            attrsAndLabel = data.columns.tolist()\n",
    "            data_cur = data[data[bestAttr]== val]\n",
    "            attrsAndLabel.remove(bestAttr)\n",
    "            data_cur  = data_cur [attrsAndLabel]\n",
    "            DecesionTree[bestAttr][val] = generateTree(data_cur ,label_list)\n",
    "        return DecesionTree\n",
    "    else:\n",
    "        node = bestAttr+'<'+str(t_data)\n",
    "        DecesionTree = {node:{}}\n",
    "        values = ['是','否']\n",
    "        for val in values:\n",
    "            if val == '是':\n",
    "                data_cur  = data[data[bestAttr] <= t_data] \n",
    "            elif val==\"否\": \n",
    "                data_cur =data[data[bestAttr] > t_data]\n",
    "            DecesionTree[node][val] = generateTree(data_cur ,label_list)\n",
    "        return DecesionTree"
   ]
  },
  {
   "cell_type": "code",
   "execution_count": 12,
   "metadata": {},
   "outputs": [
    {
     "name": "stdout",
     "output_type": "stream",
     "text": [
      "{'纹理': {'清晰': {'密度<0.3815': {'是': '否', '否': '是'}}, '稍糊': {'密度<0.56': {'是': '是', '否': '否'}}, '模糊': '否'}}\n"
     ]
    }
   ],
   "source": [
    "tree= generateTree (water_train2,water_train2.columns)\n",
    "print(tree)"
   ]
  }
 ],
 "metadata": {
  "interpreter": {
   "hash": "b2345e6128660d800caeeaf1f3a6936fcd09960590a8a89cf9fb390fc735dae0"
  },
  "kernelspec": {
   "display_name": "Python 3.8.8 64-bit ('base': conda)",
   "language": "python",
   "name": "python3"
  },
  "language_info": {
   "codemirror_mode": {
    "name": "ipython",
    "version": 3
   },
   "file_extension": ".py",
   "mimetype": "text/x-python",
   "name": "python",
   "nbconvert_exporter": "python",
   "pygments_lexer": "ipython3",
   "version": "3.8.8"
  },
  "orig_nbformat": 4
 },
 "nbformat": 4,
 "nbformat_minor": 2
}
