{
 "cells": [
  {
   "cell_type": "code",
   "execution_count": 39,
   "source": [
    "import pandas as pd\r\n",
    "import os\r\n",
    "import numpy as np"
   ],
   "outputs": [],
   "metadata": {}
  },
  {
   "cell_type": "code",
   "execution_count": 40,
   "source": [
    "def load_txtdata(path):\r\n",
    "    gross_data=np.loadtxt(path)\r\n",
    "    np.random.shuffle(gross_data)\r\n",
    "    train_data=[]\r\n",
    "    train_label=[]\r\n",
    "    for item in gross_data:\r\n",
    "        train_data.append(np.asarray(item[0:-10]))\r\n",
    "        train_label.append(item[-10:])\r\n",
    "    return train_data,train_label "
   ],
   "outputs": [],
   "metadata": {}
  },
  {
   "cell_type": "code",
   "execution_count": 41,
   "source": [
    "data,labels=load_txtdata(\".\\semeion.data\")"
   ],
   "outputs": [],
   "metadata": {}
  },
  {
   "cell_type": "code",
   "execution_count": 43,
   "source": [
    "#useless\r\n",
    "def load_data(path):\r\n",
    "    gross_data=[]\r\n",
    "    with open(path,'rb') as f:\r\n",
    "        for line in f.readlines():\r\n",
    "            line=str(line,encoding='utf-8')\r\n",
    "            data1=line.strip('\\n')\r\n",
    "            data1=data1.strip('\\r')\r\n",
    "            data2=data1.split(' ')\r\n",
    "            for data in data2:\r\n",
    "                data=float(data)\r\n",
    "            line=np.asarray(data2, dtype=np.float32)\r\n",
    "            gross_data.append(line)\r\n",
    "        f.close()\r\n",
    "    train_data=[]\r\n",
    "    train_label=[]\r\n",
    "    np.random.shuffle(gross_data)\r\n",
    "    for item in gross_data:\r\n",
    "        train_data.append(np.asarray(item[0:-11]))\r\n",
    "        train_label.append(item[-11:])\r\n",
    "\r\n",
    "    return train_data,train_label    "
   ],
   "outputs": [],
   "metadata": {}
  },
  {
   "cell_type": "code",
   "execution_count": 44,
   "source": [
    "batch_size=int(0.1*len(data))"
   ],
   "outputs": [],
   "metadata": {}
  },
  {
   "cell_type": "code",
   "execution_count": 45,
   "source": [
    "print(labels[0])"
   ],
   "outputs": [
    {
     "output_type": "stream",
     "name": "stdout",
     "text": [
      "[0. 0. 0. 0. 0. 0. 0. 1. 0. 0.]\n"
     ]
    }
   ],
   "metadata": {}
  },
  {
   "cell_type": "code",
   "execution_count": 46,
   "source": [
    "def calculate_distance(num,target): #Manhannton\r\n",
    "    return np.sum(np.abs(num-target))"
   ],
   "outputs": [],
   "metadata": {}
  },
  {
   "cell_type": "code",
   "execution_count": 47,
   "source": [
    "def make_dataset(num):\r\n",
    "    if num+batch_size<len(data)-1:\r\n",
    "        lis=np.arange(num)\r\n",
    "        collected=np.arange(num+batch_size,len(data)-1)\r\n",
    "        lis=np.append(lis,collected)\r\n",
    "    else:\r\n",
    "        lis=np.arange(num)\r\n",
    "    train_set=[]\r\n",
    "    test_set=[]\r\n",
    "    test_label=[]\r\n",
    "    train_label=[]\r\n",
    "    for number in lis:\r\n",
    "        train_set.append(data[number])\r\n",
    "        train_label.append(labels[number])\r\n",
    "    for i in np.arange(num,min(num+batch_size,len(data)-1)):\r\n",
    "        test_label.append(labels[i])\r\n",
    "        test_set.append(data[i])\r\n",
    "    write_data(train_set, train_label,test_set,test_label)\r\n",
    "    return train_set, train_label,test_set,test_label"
   ],
   "outputs": [],
   "metadata": {}
  },
  {
   "cell_type": "code",
   "execution_count": 48,
   "source": [
    "def write_data(train_set, train_label,test_set,test_label):\r\n",
    "    if os.path.exists('train_data.txt'):\r\n",
    "        None\r\n",
    "    else:\r\n",
    "        np.savetxt('train_data_set.txt',train_set)\r\n",
    "        np.savetxt('test_data_set.txt',test_set)\r\n",
    "        np.savetxt('train_label_set.txt',train_label)\r\n",
    "        np.savetxt('test_label_set.txt',test_label)"
   ],
   "outputs": [],
   "metadata": {}
  },
  {
   "cell_type": "code",
   "execution_count": 49,
   "source": [
    "def getnumber(array):\r\n",
    "    for item in np.arange(len(array)):\r\n",
    "        if array[item]==1:\r\n",
    "            return item"
   ],
   "outputs": [],
   "metadata": {}
  },
  {
   "cell_type": "code",
   "execution_count": 50,
   "source": [
    "from collections import Counter\r\n",
    "import pandas as pd\r\n",
    "def knn(input_num, dataSet,labelset, k):\r\n",
    "    store ={}\r\n",
    "    for num_set in range(len(dataSet)):\r\n",
    "        dist=calculate_distance(input_num,dataSet[num_set])\r\n",
    "        store[num_set]=dist\r\n",
    "    dict1=sorted(store.items(),key=lambda x:x[1])\r\n",
    "    dict2=dict1[0:k]\r\n",
    "    vote=[num[0] for num in dict2]\r\n",
    "\r\n",
    "    voted=[]\r\n",
    "    for i in vote:\r\n",
    "        c=getnumber(labelset[i])\r\n",
    "        voted.append(c)\r\n",
    "    maxlable=max(voted,key=voted.count)\r\n",
    "    return maxlable"
   ],
   "outputs": [],
   "metadata": {}
  },
  {
   "cell_type": "code",
   "execution_count": 51,
   "source": [
    "import matplotlib.pyplot as plt\r\n",
    "import matplotlib.image as mpimg\r\n",
    "def show_pic(array):\r\n",
    "    img=array.reshape((16,16))\r\n",
    "    print(img)\r\n",
    "    imgplot = plt.imshow(img)\r\n",
    "show_pic(data[10])\r\n",
    "print(labels[10])"
   ],
   "outputs": [
    {
     "output_type": "stream",
     "name": "stdout",
     "text": [
      "[[0. 0. 0. 0. 0. 0. 0. 1. 1. 1. 1. 1. 1. 1. 1. 0.]\n",
      " [0. 0. 0. 0. 0. 0. 0. 0. 0. 0. 0. 0. 1. 1. 1. 1.]\n",
      " [0. 0. 0. 0. 1. 1. 1. 0. 0. 1. 1. 1. 1. 1. 1. 1.]\n",
      " [0. 0. 0. 1. 1. 1. 0. 1. 1. 1. 1. 1. 0. 1. 1. 1.]\n",
      " [0. 0. 1. 1. 1. 1. 1. 1. 1. 0. 0. 0. 0. 1. 1. 1.]\n",
      " [0. 0. 1. 1. 1. 1. 1. 1. 0. 0. 0. 0. 0. 1. 1. 1.]\n",
      " [0. 0. 1. 1. 1. 0. 0. 0. 0. 0. 0. 0. 1. 1. 1. 0.]\n",
      " [0. 0. 0. 0. 0. 0. 0. 0. 0. 0. 0. 1. 1. 1. 0. 0.]\n",
      " [0. 0. 0. 0. 0. 0. 0. 0. 1. 1. 1. 1. 1. 0. 0. 0.]\n",
      " [0. 0. 0. 0. 0. 0. 1. 1. 1. 1. 0. 0. 0. 0. 0. 0.]\n",
      " [0. 0. 0. 0. 1. 1. 1. 1. 1. 1. 0. 0. 0. 0. 0. 0.]\n",
      " [0. 0. 1. 1. 1. 1. 1. 0. 0. 0. 0. 0. 0. 0. 0. 0.]\n",
      " [1. 1. 1. 1. 1. 1. 1. 0. 0. 0. 0. 0. 1. 1. 0. 0.]\n",
      " [1. 1. 1. 0. 0. 1. 1. 1. 0. 1. 1. 1. 1. 0. 0. 0.]\n",
      " [0. 0. 0. 0. 0. 1. 1. 1. 1. 1. 1. 0. 0. 0. 0. 0.]\n",
      " [0. 0. 0. 0. 0. 0. 1. 1. 1. 1. 0. 0. 0. 0. 0. 0.]]\n",
      "[0. 0. 1. 0. 0. 0. 0. 0. 0. 0.]\n"
     ]
    },
    {
     "output_type": "display_data",
     "data": {
      "image/png": "[encoded data removed]",
      "text/plain": [
       "<Figure size 432x288 with 1 Axes>"
      ]
     },
     "metadata": {
      "needs_background": "light"
     }
    }
   ],
   "metadata": {}
  },
  {
   "cell_type": "code",
   "execution_count": 53,
   "source": [
    "def train_test(num,K):\r\n",
    "    train_set, train_label,test_set,test_label=make_dataset(num)\r\n",
    "    times=0\r\n",
    "    accuracy=0\r\n",
    "    for i in np.arange(num,min(num+batch_size,len(data)-1)):\r\n",
    "      predicted=knn(data[i],train_set,train_label,20)\r\n",
    "      labeled=getnumber(labels[i])\r\n",
    "      times=times+1\r\n",
    "      if(labeled==predicted):\r\n",
    "        accuracy=accuracy+1\r\n",
    "    return accuracy/times "
   ],
   "outputs": [],
   "metadata": {}
  },
  {
   "cell_type": "code",
   "execution_count": 60,
   "source": [
    "config=[1,2,3,5,8,10,20]\r\n",
    "average=[]\r\n",
    "for item in config:\r\n",
    "    average.append\r\n",
    "    sum_k=0\r\n",
    "    for i in range(5):\r\n",
    "        sum_k=sum_k+train_test(np.random.randint(len(data)),item)\r\n",
    "    sum_k=sum_k/5\r\n",
    "    average.append(sum_k)\r\n",
    "print(average)"
   ],
   "outputs": [
    {
     "output_type": "stream",
     "name": "stdout",
     "text": [
      "[0.8955974842767297, 0.89937106918239, 0.8968553459119498, 0.889308176100629, 0.913978494623656, 0.8981132075471698, 0.9018867924528303]\n"
     ]
    }
   ],
   "metadata": {}
  },
  {
   "cell_type": "code",
   "execution_count": 63,
   "source": [
    "from sklearn.neighbors import KNeighborsClassifier\r\n",
    "train_set, train_label,test_set,test_label=make_dataset(np.random.randint(len(data)))\r\n",
    "statistic=[]\r\n",
    "for K in config:\r\n",
    "    neigh = KNeighborsClassifier(n_neighbors=K)\r\n",
    "    reset_set,conv_test=[],[]\r\n",
    "    for item in train_label:\r\n",
    "        reset_set.append(getnumber(item))\r\n",
    "    for item in test_label:\r\n",
    "        conv_test.append(getnumber(item))\r\n",
    "    neigh.fit(train_set, reset_set)\r\n",
    "    acc=0\r\n",
    "    predicted=neigh.predict(test_set)\r\n",
    "    for item in range(len(predicted)):\r\n",
    "        if predicted[item]==conv_test[item]:\r\n",
    "            acc=acc+1\r\n",
    "    statistic.append(acc/len(predicted))\r\n",
    "print(statistic)\r\n",
    "\r\n",
    "\r\n",
    "    "
   ],
   "outputs": [
    {
     "output_type": "stream",
     "name": "stdout",
     "text": [
      "[0.9119496855345912, 0.8490566037735849, 0.8930817610062893, 0.8805031446540881, 0.8930817610062893, 0.89937106918239, 0.8867924528301887]\n"
     ]
    }
   ],
   "metadata": {}
  },
  {
   "cell_type": "code",
   "execution_count": 65,
   "source": [
    "import matplotlib.pyplot as plt\r\n",
    "plt.plot(config,statistic,label='scikit-learn')\r\n",
    "plt.plot(config,average,label='self-knn')\r\n",
    "plt.legend(['scikit-learn','self-knn'])"
   ],
   "outputs": [
    {
     "output_type": "execute_result",
     "data": {
      "text/plain": [
       "<matplotlib.legend.Legend at 0x23943e368e0>"
      ]
     },
     "metadata": {},
     "execution_count": 65
    },
    {
     "output_type": "display_data",
     "data": {
      "image/png": "[encoded data removed]",
      "text/plain": [
       "<Figure size 432x288 with 1 Axes>"
      ]
     },
     "metadata": {
      "needs_background": "light"
     }
    }
   ],
   "metadata": {}
  }
 ],
 "metadata": {
  "interpreter": {
   "hash": "b2345e6128660d800caeeaf1f3a6936fcd09960590a8a89cf9fb390fc735dae0"
  },
  "kernelspec": {
   "name": "python3",
   "display_name": "Python 3.8.8 64-bit ('base': conda)"
  },
  "language_info": {
   "codemirror_mode": {
    "name": "ipython",
    "version": 3
   },
   "file_extension": ".py",
   "mimetype": "text/x-python",
   "name": "python",
   "nbconvert_exporter": "python",
   "pygments_lexer": "ipython3",
   "version": "3.8.8"
  },
  "latex_envs": {
   "LaTeX_envs_menu_present": true,
   "autoclose": false,
   "autocomplete": true,
   "bibliofile": "biblio.bib",
   "cite_by": "apalike",
   "current_citInitial": 1,
   "eqLabelWithNumbers": true,
   "eqNumInitial": 1,
   "hotkeys": {
    "equation": "Ctrl-E",
    "itemize": "Ctrl-I"
   },
   "labels_anchors": false,
   "latex_user_defs": false,
   "report_style_numbering": false,
   "user_envs_cfg": false
  },
  "varInspector": {
   "cols": {
    "lenName": 16,
    "lenType": 16,
    "lenVar": 40
   },
   "kernels_config": {
    "python": {
     "delete_cmd_postfix": "",
     "delete_cmd_prefix": "del ",
     "library": "var_list.py",
     "varRefreshCmd": "print(var_dic_list())"
    },
    "r": {
     "delete_cmd_postfix": ") ",
     "delete_cmd_prefix": "rm(",
     "library": "var_list.r",
     "varRefreshCmd": "cat(var_dic_list()) "
    }
   },
   "types_to_exclude": [
    "module",
    "function",
    "builtin_function_or_method",
    "instance",
    "_Feature"
   ],
   "window_display": false
  }
 },
 "nbformat": 4,
 "nbformat_minor": 2
}