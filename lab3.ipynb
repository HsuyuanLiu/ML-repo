{
 "cells": [
  {
   "cell_type": "code",
   "execution_count": 1,
   "metadata": {},
   "outputs": [],
   "source": [
    "import numpy as np\n",
    "import pandas as pd\n",
    "import matplotlib.pyplot as plt\n",
    "import math\n",
    "conv=[[1,0],[0,1]]\n",
    "x_mean=[1,4,8]\n",
    "y_mean=[1,4,1]\n",
    "def do_sample(size,distribution=None):\n",
    "    X_1=np.random.choice([1,2,3],size=1000,p=distribution)\n",
    "    normal_sample=[]\n",
    "    for i in range(size):\n",
    "        if X_1[i]==1:\n",
    "            L=list(np.random.multivariate_normal((1,1),cov=conv))\n",
    "            L.append(0)\n",
    "            normal_sample.append(L)\n",
    "        elif X_1[i]==2:\n",
    "            L=list(np.random.multivariate_normal((4,4),cov=conv))\n",
    "            L.append(1)\n",
    "            normal_sample.append(L)\n",
    "        else:\n",
    "            L=list(np.random.multivariate_normal((8,1),cov=conv))\n",
    "            L.append(2) \n",
    "            normal_sample.append(L)\n",
    "    return normal_sample\n",
    "\n"
   ]
  },
  {
   "cell_type": "code",
   "execution_count": 2,
   "metadata": {},
   "outputs": [
    {
     "data": {
      "image/png": "[encoded data removed]",
      "text/plain": [
       "<Figure size 432x288 with 1 Axes>"
      ]
     },
     "metadata": {
      "needs_background": "light"
     },
     "output_type": "display_data"
    }
   ],
   "source": [
    "sample_1=do_sample(1000,)\n",
    "sample_2=do_sample(1000,distribution=[0.6,0.3,0.1])\n",
    "def im_show(sample,color=None):\n",
    "    x_list=[]\n",
    "    y_list=[]\n",
    "    for item in sample:\n",
    "        x_list.append(item[0])\n",
    "        y_list.append(item[1])\n",
    "    plt.scatter(x_list,y_list,c=color)\n",
    "im_show(sample_1,color='y')\n",
    "im_show(sample_2,color='r')"
   ]
  },
  {
   "cell_type": "code",
   "execution_count": 3,
   "metadata": {},
   "outputs": [],
   "source": [
    "def MAP(x,y,ux,uy,p):\n",
    "    return math.exp(-0.25*((x-ux)**2+(y-uy)**2))*p/(math.pi*4)#概率计算"
   ]
  },
  {
   "cell_type": "code",
   "execution_count": 4,
   "metadata": {},
   "outputs": [
    {
     "name": "stdout",
     "output_type": "stream",
     "text": [
      "0.98\n",
      "0.987\n"
     ]
    }
   ],
   "source": [
    "def single_evalue(item,probability):\n",
    "    score=[]\n",
    "    for i in np.arange(0,3):\n",
    "        score.append(MAP(item[0],item[1],x_mean[i],y_mean[i],probability[i]))\n",
    "    res=max(score)\n",
    "    for ite in np.arange(0,3):\n",
    "        if(score[ite]==res):\n",
    "            return ite\n",
    "acc1=0\n",
    "for iter_num in np.arange(0,1000):\n",
    "    if(single_evalue(sample_2[iter_num],[0.6,0.3,0.1])==sample_2[iter_num][2]):\n",
    "        acc1=acc1+1\n",
    "print(acc1/1000)\n",
    "acc2=0\n",
    "for iter_num in np.arange(0,1000):\n",
    "    if(single_evalue(sample_1[iter_num],[1/3,1/3,1/3])==sample_1[iter_num][2]):\n",
    "        acc2=acc2+1\n",
    "print(acc2/1000)       "
   ]
  },
  {
   "cell_type": "markdown",
   "metadata": {},
   "source": [
    "计算得到某个点中的核密度————需要其周边的分类"
   ]
  },
  {
   "cell_type": "code",
   "execution_count": 5,
   "metadata": {},
   "outputs": [],
   "source": [
    "H=[0.1,0.5,1,1.5,2]\n",
    "def density_cal_window(k):\n",
    "    return 1/k**2  #D=2\n",
    "def gaussian_cal(k,tar_x,tar_y,x_i,y_i):\n",
    "    return 1/(math.sqrt(2*math.pi*k**2))*np.power(np.e,(-((tar_x-x_i)**2+(tar_y-y_i)**2)/2*k**2))"
   ]
  },
  {
   "cell_type": "code",
   "execution_count": 6,
   "metadata": {},
   "outputs": [],
   "source": [
    "def another_cal(k,tar_x,tar_y,x_i,y_i):\n",
    "    return math.exp(-(((tar_x-x_i)**2+(tar_y-y_i)**2)/2*(k**2)))/math.sqrt(2*math.pi*(k**2))"
   ]
  },
  {
   "cell_type": "code",
   "execution_count": 7,
   "metadata": {},
   "outputs": [
    {
     "name": "stdout",
     "output_type": "stream",
     "text": [
      "for sample 1:\n",
      "the accuracy is 0.913 \n",
      "the accuracy is 0.987 \n",
      "the accuracy is 0.987 \n",
      "the accuracy is 0.987 \n",
      "the accuracy is 0.987 \n",
      "for sample 2:\n",
      "the accuracy is 0.597 \n",
      "the accuracy is 0.973 \n",
      "the accuracy is 0.984 \n",
      "the accuracy is 0.988 \n",
      "the accuracy is 0.987 \n"
     ]
    }
   ],
   "source": [
    "def gaussian_KDE(k,sample):\n",
    "    predict_result=[]\n",
    "    acc=0\n",
    "    for item in range(1000):\n",
    "        score=[0,0,0]\n",
    "        count_class=[0,0,0]\n",
    "        for i in range(1000):\n",
    "            score[sample[i][2]]=score[sample[i][2]]+gaussian_cal(k,sample[item][0],sample[item][1],x_mean[sample[i][2]],y_mean[sample[i][2]])\n",
    "        res=max(score)\n",
    "        for i in np.arange(0,3):\n",
    "            if (res==score[i]):\n",
    "                predict_result.append(i)\n",
    "        \n",
    "    for i in range(0,1000):\n",
    "        if (predict_result[i]==sample[i][2]):\n",
    "            acc=acc+1\n",
    "    print('the accuracy is %.3f ' % (acc/1000))\n",
    "    acc=0\n",
    "\n",
    "print('for sample 1:')\n",
    "for item in H:\n",
    "    gaussian_KDE(item,sample_1)    \n",
    "print('for sample 2:')\n",
    "for item in H:\n",
    "    gaussian_KDE(item,sample_2)     \n",
    "#KDE(H[3],sample_1)   \n"
   ]
  },
  {
   "cell_type": "code",
   "execution_count": 8,
   "metadata": {},
   "outputs": [
    {
     "name": "stdout",
     "output_type": "stream",
     "text": [
      "the accuracy is 0.461 \n",
      "the accuracy is 0.485 \n",
      "the accuracy is 0.464 \n",
      "the accuracy is 0.699 \n",
      "the accuracy is 0.420 \n",
      "for sample 2:\n",
      "the accuracy is 0.379 \n",
      "the accuracy is 0.411 \n",
      "the accuracy is 0.511 \n",
      "the accuracy is 0.664 \n",
      "the accuracy is 0.960 \n"
     ]
    }
   ],
   "source": [
    "def KDE(k,sample):\n",
    "    predict_result=[]\n",
    "    acc=0\n",
    "    for item in range(1000):\n",
    "        score=[0,0,0]\n",
    "        for i in range(1000):\n",
    "            if (item==i):\n",
    "                continue\n",
    "            elif(sample[item][0]-sample[i][0]<=k and sample[item][1]-sample[i][1]<=k ):\n",
    "                score[sample[i][2]]=score[sample[i][2]]+density_cal_window(k)\n",
    "        res=max(score)\n",
    "        for i in np.arange(0,3):\n",
    "            if (res==score[i]):\n",
    "                predict_result.append(i)\n",
    "    \n",
    "    for i in range(0,1000):\n",
    "        if (predict_result[i]==sample[i][2]):\n",
    "            acc=acc+1\n",
    "    print('the accuracy is %.3f ' % (acc/1000))\n",
    "    \n",
    "for item in H:\n",
    "    KDE(item,sample_1)    \n",
    "print('for sample 2:')\n",
    "for item in H:\n",
    "    KDE(item,sample_2)  "
   ]
  },
  {
   "cell_type": "code",
   "execution_count": 9,
   "metadata": {},
   "outputs": [],
   "source": [
    "def calculate_distance(num,target): #Manhannton\n",
    "    return np.abs(num[0] - target[0])+np.abs(num[1]-target[1])"
   ]
  },
  {
   "cell_type": "code",
   "execution_count": 10,
   "metadata": {},
   "outputs": [],
   "source": [
    "def knn(input_num, sample, k):\n",
    "    store={}\n",
    "    for i in np.arange(1000):\n",
    "        dist=calculate_distance(sample[input_num],sample[i])\n",
    "        store[i]=dist\n",
    "    store[input_num]=10000\n",
    "    dict1=sorted(store.items(),key=lambda x:x[1])\n",
    "    dict2=dict1[1:k+1]#序号+距离\n",
    "    choice=[0,0,0]\n",
    "    for item in dict2:\n",
    "        choice[sample[item[0]][2]]=choice[sample[item[0]][2]] +1\n",
    "    res=max(choice)\n",
    "    for i in np.arange(3):\n",
    "        if choice[i]==res:\n",
    "            maxlable=i\n",
    "    return maxlable"
   ]
  },
  {
   "cell_type": "code",
   "execution_count": 11,
   "metadata": {},
   "outputs": [
    {
     "name": "stdout",
     "output_type": "stream",
     "text": [
      "980\n",
      "983\n",
      "983\n",
      "971\n",
      "980\n",
      "981\n"
     ]
    }
   ],
   "source": [
    "def test(sample,K):\n",
    "    acc=0\n",
    "    for i in np.arange(1000):       \n",
    "        labeli=knn(i,sample,K)\n",
    "        if(labeli==sample[i][2]):\n",
    "            acc=acc+1\n",
    "    return acc\n",
    "K=[1,3,5]\n",
    "for item in K:\n",
    "    result=test(sample_1,item)\n",
    "    print(result)\n",
    "for item in K:\n",
    "    result=test(sample_2,item)\n",
    "    print(result)\n",
    "        \n"
   ]
  }
 ],
 "metadata": {
  "interpreter": {
   "hash": "b2345e6128660d800caeeaf1f3a6936fcd09960590a8a89cf9fb390fc735dae0"
  },
  "kernelspec": {
   "display_name": "Python 3.8.8 64-bit ('base': conda)",
   "name": "python3"
  },
  "language_info": {
   "codemirror_mode": {
    "name": "ipython",
    "version": 3
   },
   "file_extension": ".py",
   "mimetype": "text/x-python",
   "name": "python",
   "nbconvert_exporter": "python",
   "pygments_lexer": "ipython3",
   "version": "3.8.8"
  },
  "orig_nbformat": 4
 },
 "nbformat": 4,
 "nbformat_minor": 2
}
