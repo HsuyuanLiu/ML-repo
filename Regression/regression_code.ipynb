{
 "cells": [
  {
   "cell_type": "code",
   "execution_count": 1,
   "metadata": {},
   "outputs": [],
   "source": [
    "import pandas as pd\n",
    "import numpy as np\n",
    "import os\n",
    "from sklearn.model_selection import train_test_split\n",
    "import matplotlib.pyplot as plt\n"
   ]
  },
  {
   "cell_type": "code",
   "execution_count": 2,
   "metadata": {},
   "outputs": [],
   "source": [
    "bin_regreesion=pd.read_csv('dataset_regression.csv')\n",
    "y=bin_regreesion.iloc[:,2]\n",
    "x=bin_regreesion.iloc[:,1]\n"
   ]
  },
  {
   "cell_type": "code",
   "execution_count": 10,
   "metadata": {},
   "outputs": [],
   "source": [
    "def compute_cost(w,b,X,Y):\n",
    "    total_cost=0\n",
    "    M =len(X)\n",
    "    for i in range(M):\n",
    "        x=X[i]\n",
    "        y=Y[i]\n",
    "        total_cost += (y-w*x-b)**2\n",
    "    return total_cost/M"
   ]
  },
  {
   "cell_type": "code",
   "execution_count": 11,
   "metadata": {},
   "outputs": [],
   "source": [
    "def fit(X,Y):\n",
    "    M = len(X)\n",
    "    x_bar=np.mean(X)\n",
    "    sum_pro= 0\n",
    "    sum_squ=0\n",
    "    sum_delta =0\n",
    "    for i in range(M):\n",
    "        x=X[i]\n",
    "        y=Y[i]\n",
    "        sum_pro += y*(x-x_bar)\n",
    "        sum_squ += x**2\n",
    "    w = sum_pro/(sum_squ-M*(x_bar**2))\n",
    "    for i in range(M):\n",
    "        x=X[i]\n",
    "        y=Y[i] \n",
    "        sum_delta += (y-w*x)\n",
    "    b = sum_delta / M\n",
    "    return w,b"
   ]
  },
  {
   "cell_type": "code",
   "execution_count": 13,
   "metadata": {},
   "outputs": [
    {
     "name": "stdout",
     "output_type": "stream",
     "text": [
      "1.976666666666667 -2.4671622769447922e-17\n",
      "0.9257592592592595\n"
     ]
    },
    {
     "data": {
      "text/plain": [
       "[<matplotlib.lines.Line2D at 0x16ca7006e50>]"
      ]
     },
     "execution_count": 13,
     "metadata": {},
     "output_type": "execute_result"
    },
    {
     "data": {
      "image/png": "[encoded data removed]",
      "text/plain": [
       "<Figure size 432x288 with 1 Axes>"
      ]
     },
     "metadata": {
      "needs_background": "light"
     },
     "output_type": "display_data"
    }
   ],
   "source": [
    "w,b=fit(x,y)\n",
    "print(w,b)\n",
    "cost_bin=compute_cost(w,b,x,y)\n",
    "print(cost_bin)\n",
    "plt.scatter(x,y)\n",
    "plt.plot(x,w*x+b,'y-')"
   ]
  },
  {
   "cell_type": "code",
   "execution_count": 3,
   "metadata": {},
   "outputs": [],
   "source": [
    "# data prepared\n",
    "quality_factor = pd.read_csv('winequality-white.csv')\n",
    "data,label=quality_factor.iloc[:,:-2],quality_factor.iloc[:,-1]\n",
    "data,label=np.array(data),np.array(label)\n",
    "data=np.hstack((np.ones((data.shape[0],1)), data))\n",
    "x_train, x_test,  y_train, y_test = train_test_split(data, label, test_size = 0.2, random_state = 7) "
   ]
  },
  {
   "cell_type": "code",
   "execution_count": 4,
   "metadata": {},
   "outputs": [],
   "source": [
    "def loss_fuc(theta, X_b, y):\n",
    "    return np.sum((y - X_b.dot(theta))**2) / len(X_b)#除以样本数（多少行）"
   ]
  },
  {
   "cell_type": "code",
   "execution_count": 5,
   "metadata": {},
   "outputs": [],
   "source": [
    "def gradient_cal(theta, X_b, y):\n",
    "    res = np.empty(len(theta))\n",
    "    #res[0] = np.sum(X_b.dot(theta) - y)\n",
    "    for i in range(0, len(theta)):\n",
    "        res[i] = (X_b.dot(theta) - y).dot(X_b[:,i])\n",
    "    return res * 2 / len(X_b)"
   ]
  },
  {
   "cell_type": "code",
   "execution_count": 20,
   "metadata": {},
   "outputs": [],
   "source": [
    "loss_store=[]\n",
    "def sgd(initial_weight,train_set,train_label,epsilon=0.01,epoch=10,batch_size=8,learning_rate=0.00001):\n",
    "    weights=initial_weight\n",
    "    for i in range(epoch):\n",
    "        num=0\n",
    "        input_x=np.empty((batch_size,train_set.shape[1]))\n",
    "        input_y=[]\n",
    "        for item in range(batch_size):\n",
    "            select_data_index=np.random.randint(len(train_set))\n",
    "            input_x[item,:]=train_set[select_data_index]\n",
    "            input_y.append(train_label[select_data_index])\n",
    "        gradient_set=gradient_cal(weights,input_x,input_y)\n",
    "        if(abs(loss_fuc(weights, input_x, input_y) - loss_fuc(weights-gradient_set*learning_rate, input_x, input_y)) < epsilon):\n",
    "            break\n",
    "        num=num+ loss_fuc(weights-gradient_set*learning_rate, input_x, input_y)\n",
    "        weights=weights-gradient_set*learning_rate\n",
    "        loss_store.append(num/batch_size)\n",
    "        \n",
    "      \n",
    "    return weights\n",
    "\n"
   ]
  },
  {
   "cell_type": "code",
   "execution_count": 21,
   "metadata": {},
   "outputs": [
    {
     "name": "stdout",
     "output_type": "stream",
     "text": [
      "[10.45424893425218, 4.627780935691536, 1.4510130108799533, 0.3489082277794272, 0.9150174767454767, 0.30499051359101315, 0.6120779822505849, 0.7292554551681194, 0.5756197762898132, 0.717485559847062]\n"
     ]
    },
    {
     "data": {
      "text/plain": [
       "<matplotlib.legend.Legend at 0x2709a596340>"
      ]
     },
     "execution_count": 21,
     "metadata": {},
     "output_type": "execute_result"
    },
    {
     "data": {
      "image/png": "[encoded data removed]",
      "text/plain": [
       "<Figure size 432x288 with 1 Axes>"
      ]
     },
     "metadata": {
      "needs_background": "light"
     },
     "output_type": "display_data"
    }
   ],
   "source": [
    "initial=np.random.normal(0,0.1,x_train.shape[1])\n",
    "res=sgd(initial,x_train, y_train)\n",
    "print(loss_store)\n",
    "import matplotlib.pyplot as plt\n",
    "plt.plot(np.arange(len(loss_store)),loss_store, '-',label=\"MSE\")\n",
    "plt.legend()\n"
   ]
  },
  {
   "cell_type": "code",
   "execution_count": 8,
   "metadata": {},
   "outputs": [],
   "source": [
    "config=[0.000005,0.00001,0.000015,0.00002,0.000025,0.00003,0.000035,0.00004,0.00005]\n",
    "result=[]\n",
    "for item in config:\n",
    "    res=sgd(initial,x_train, y_train,learning_rate=item)\n",
    "    result.append(loss_fuc(res,x_train,y_train))"
   ]
  },
  {
   "cell_type": "code",
   "execution_count": 22,
   "metadata": {},
   "outputs": [
    {
     "data": {
      "text/plain": [
       "<matplotlib.legend.Legend at 0x2709a859100>"
      ]
     },
     "execution_count": 22,
     "metadata": {},
     "output_type": "execute_result"
    },
    {
     "data": {
      "image/png": "[encoded data removed]",
      "text/plain": [
       "<Figure size 432x288 with 1 Axes>"
      ]
     },
     "metadata": {
      "needs_background": "light"
     },
     "output_type": "display_data"
    }
   ],
   "source": [
    "import matplotlib.pyplot as plt\n",
    "plt.plot(config,result,label='Loss Fuction')\n",
    "plt.legend()"
   ]
  },
  {
   "cell_type": "code",
   "execution_count": 10,
   "metadata": {},
   "outputs": [
    {
     "name": "stdout",
     "output_type": "stream",
     "text": [
      "[-0.0487647  -0.04451879 -0.0229626  -0.01721053  0.16292964  0.29037108\n",
      "  0.07108573 -0.01355269 -0.1945883  -0.02132652 -0.15991975]\n",
      "0.8282461887671526\n",
      "6\n"
     ]
    }
   ],
   "source": [
    "print(res)\n",
    "print(np.dot(res,x_test[1]))\n",
    "print(y_test[1])"
   ]
  },
  {
   "cell_type": "code",
   "execution_count": 11,
   "metadata": {},
   "outputs": [
    {
     "data": {
      "text/plain": [
       "LinearRegression()"
      ]
     },
     "execution_count": 11,
     "metadata": {},
     "output_type": "execute_result"
    }
   ],
   "source": [
    "from sklearn.linear_model import LinearRegression\n",
    "model = LinearRegression() \n",
    "model.fit(x_train,y_train)"
   ]
  },
  {
   "cell_type": "code",
   "execution_count": 12,
   "metadata": {},
   "outputs": [
    {
     "name": "stdout",
     "output_type": "stream",
     "text": [
      "[6. 7. 6. 5. 6. 6. 6. 5. 6. 5. 5. 6. 6. 5. 6. 5. 6. 6. 5. 6. 6. 7. 6. 6.\n",
      " 7. 6. 6. 6. 6. 6. 6. 6. 5. 5. 6. 7. 6. 6. 7. 6. 7. 7. 7. 7. 7. 6. 6. 6.\n",
      " 5. 5. 6. 7. 6. 6. 6. 5. 6. 5. 5. 6. 6. 5. 6. 5. 6. 6. 6. 6. 6. 6. 5. 6.\n",
      " 5. 6. 6. 5. 7. 5. 6. 6. 5. 6. 5. 5. 6. 6. 6. 6. 6. 6. 6. 6. 6. 6. 7. 5.\n",
      " 7. 6. 7. 6. 6. 6. 6. 6. 7. 6. 6. 7. 6. 6. 5. 6. 6. 6. 6. 6. 6. 6. 6. 6.\n",
      " 6. 6. 5. 6. 6. 7. 6. 6. 6. 6. 6. 6. 6. 6. 6. 6. 6. 6. 6. 6. 6. 6. 6. 6.\n",
      " 6. 6. 6. 5. 5. 6. 6. 6. 6. 5. 6. 6. 6. 6. 6. 6. 6. 5. 6. 6. 6. 6. 6. 6.\n",
      " 6. 6. 6. 7. 6. 7. 6. 7. 6. 5. 6. 5. 6. 4. 6. 6. 6. 6. 6. 5. 6. 6. 6. 5.\n",
      " 5. 5. 6. 6. 7. 7. 5. 7. 6. 6. 5. 6. 5. 6. 6. 6. 6. 6. 6. 5. 7. 5. 7. 6.\n",
      " 6. 6. 6. 6. 6. 6. 6. 6. 6. 6. 6. 6. 6. 5. 5. 6. 6. 6. 6. 6. 5. 6. 6. 6.\n",
      " 6. 5. 6. 6. 5. 6. 5. 5. 6. 5. 7. 6. 5. 6. 6. 6. 6. 7. 6. 5. 5. 6. 5. 5.\n",
      " 7. 6. 6. 6. 6. 6. 5. 6. 6. 6. 6. 6. 6. 5. 5. 6. 7. 5. 5. 5. 6. 6. 6. 6.\n",
      " 7. 5. 6. 6. 7. 6. 6. 7. 6. 6. 5. 5. 7. 6. 6. 6. 7. 6. 6. 6. 6. 6. 5. 6.\n",
      " 5. 5. 6. 6. 6. 6. 6. 6. 5. 5. 5. 6. 6. 6. 6. 7. 7. 6. 6. 7. 6. 6. 6. 6.\n",
      " 5. 6. 6. 5. 6. 6. 6. 5. 6. 6. 6. 6. 6. 6. 6. 6. 6. 6. 5. 5. 5. 5. 6. 7.\n",
      " 6. 5. 5. 5. 6. 6. 6. 6. 5. 4. 6. 6. 6. 6. 6. 6. 6. 6. 6. 6. 6. 6. 6. 6.\n",
      " 6. 5. 5. 6. 6. 7. 6. 5. 6. 6. 6. 6. 6. 7. 5. 6. 6. 6. 5. 6. 6. 7. 5. 6.\n",
      " 6. 6. 6. 6. 6. 5. 5. 6. 5. 6. 6. 6. 6. 6. 6. 6. 6. 6. 6. 5. 6. 6. 6. 6.\n",
      " 6. 6. 6. 6. 5. 6. 6. 6. 6. 6. 4. 6. 5. 7. 6. 6. 5. 6. 5. 6. 6. 6. 6. 5.\n",
      " 6. 6. 6. 7. 6. 5. 6. 7. 6. 6. 6. 6. 5. 6. 6. 6. 6. 6. 6. 6. 6. 6. 6. 5.\n",
      " 6. 6. 7. 6. 5. 7. 6. 5. 5. 6. 7. 6. 6. 5. 6. 7. 6. 6. 6. 6. 5. 6. 5. 6.\n",
      " 7. 6. 6. 6. 6. 6. 6. 6. 6. 6. 5. 6. 5. 6. 5. 6. 6. 5. 6. 6. 5. 5. 5. 6.\n",
      " 6. 5. 6. 5. 5. 5. 6. 6. 6. 5. 6. 6. 5. 6. 6. 7. 6. 7. 6. 6. 6. 6. 6. 7.\n",
      " 6. 6. 6. 6. 5. 6. 6. 6. 5. 5. 6. 6. 5. 6. 6. 5. 6. 6. 6. 6. 6. 6. 6. 6.\n",
      " 7. 6. 6. 5. 6. 7. 6. 6. 6. 6. 5. 6. 6. 5. 6. 6. 6. 5. 7. 6. 6. 7. 6. 6.\n",
      " 6. 5. 6. 6. 7. 5. 6. 6. 6. 6. 6. 6. 6. 5. 6. 6. 5. 6. 5. 6. 6. 6. 6. 6.\n",
      " 6. 5. 7. 6. 6. 6. 6. 6. 6. 6. 6. 6. 6. 5. 6. 7. 5. 6. 6. 6. 6. 6. 6. 6.\n",
      " 5. 6. 6. 5. 5. 5. 6. 6. 7. 5. 5. 5. 5. 5. 6. 6. 6. 6. 6. 5. 6. 6. 6. 6.\n",
      " 6. 5. 5. 6. 6. 6. 5. 6. 6. 6. 7. 6. 6. 6. 6. 6. 5. 6. 6. 6. 6. 6. 6. 6.\n",
      " 6. 6. 6. 5. 7. 6. 5. 6. 6. 6. 6. 5. 6. 6. 6. 6. 6. 6. 5. 6. 5. 6. 5. 6.\n",
      " 5. 6. 6. 6. 6. 6. 5. 6. 6. 6. 6. 6. 6. 6. 6. 6. 6. 6. 6. 6. 5. 6. 6. 6.\n",
      " 6. 5. 6. 6. 6. 6. 6. 6. 6. 6. 6. 6. 6. 6. 5. 6. 6. 6. 6. 6. 6. 6. 6. 5.\n",
      " 5. 6. 5. 7. 5. 5. 6. 7. 6. 6. 6. 7. 6. 7. 6. 5. 6. 6. 5. 5. 6. 6. 5. 6.\n",
      " 6. 6. 6. 5. 6. 5. 6. 5. 7. 6. 6. 5. 6. 5. 6. 7. 6. 5. 6. 6. 6. 6. 6. 6.\n",
      " 7. 6. 6. 5. 6. 6. 6. 5. 6. 5. 6. 6. 6. 6. 6. 6. 6. 6. 6. 5. 6. 6. 6. 6.\n",
      " 5. 5. 6. 6. 5. 6. 6. 6. 6. 6. 6. 5. 5. 6. 6. 6. 6. 6. 6. 5. 6. 7. 6. 6.\n",
      " 6. 6. 6. 6. 6. 6. 6. 7. 4. 5. 6. 6. 5. 6. 5. 6. 6. 6. 5. 6. 6. 6. 6. 7.\n",
      " 6. 6. 6. 6. 6. 6. 6. 6. 6. 6. 7. 6. 7. 6. 6. 5. 6. 5. 6. 7. 6. 6. 6. 6.\n",
      " 6. 6. 6. 6. 6. 5. 7. 5. 6. 6. 5. 7. 6. 6. 5. 6. 6. 6. 7. 6. 5. 6. 6. 6.\n",
      " 6. 6. 6. 7. 6. 7. 7. 6. 5. 6. 7. 6. 5. 5. 6. 5. 7. 6. 6. 7. 7. 6. 6. 6.\n",
      " 6. 6. 6. 5. 6. 7. 6. 6. 6. 6. 6. 6. 6. 6. 6. 6. 6. 6. 7. 6.]\n",
      "[6 6 7 6 5 6 8 6 6 5 6 5 6 5 6 4 6 6 5 5 7 7 6 5 6 7 6 7 7 6 6 6 6 5 4 6 5\n",
      " 6 6 7 7 9 7 7 7 6 7 5 6 5 6 7 6 6 7 5 6 5 7 6 6 5 6 5 7 5 6 6 7 7 5 6 5 6\n",
      " 6 5 7 5 6 8 5 5 6 5 6 7 6 5 5 6 5 7 5 6 6 6 6 6 7 6 6 5 5 5 6 5 7 6 6 5 5\n",
      " 7 6 6 6 6 5 5 6 8 5 6 5 5 6 8 5 7 7 6 7 5 6 7 6 6 6 6 5 6 5 6 6 4 6 6 5 5\n",
      " 6 8 5 7 6 6 6 6 5 6 6 6 5 5 5 6 5 6 6 7 6 6 7 6 5 7 6 7 6 6 5 5 6 5 5 7 8\n",
      " 5 5 5 6 6 5 5 5 5 5 7 7 7 4 6 5 7 6 7 5 5 5 6 7 6 6 4 6 5 7 7 6 5 6 7 7 7\n",
      " 6 6 7 5 6 6 5 6 5 6 7 6 5 6 4 7 6 6 6 6 6 6 5 7 5 5 6 5 7 6 5 5 6 6 7 7 7\n",
      " 5 6 8 5 5 6 6 6 5 6 7 5 5 6 6 5 7 5 5 6 7 7 5 5 6 5 6 5 6 7 5 5 7 6 6 6 7\n",
      " 6 6 6 6 6 5 6 6 4 6 6 7 6 6 5 5 6 4 7 5 5 5 6 8 5 6 5 7 5 6 6 6 7 5 8 7 6\n",
      " 6 6 7 5 5 5 5 6 6 6 5 6 6 7 6 7 8 6 5 6 6 4 4 6 5 6 7 7 5 6 5 6 7 6 6 5 4\n",
      " 8 6 6 6 5 5 6 7 7 6 5 5 6 7 5 5 5 8 6 7 6 6 8 8 6 6 6 6 6 5 6 7 5 5 6 8 5\n",
      " 6 5 5 6 6 6 5 5 5 5 6 6 6 7 5 4 5 6 5 8 6 6 6 6 8 6 6 5 5 6 5 6 5 5 6 5 5\n",
      " 4 7 6 7 5 6 5 7 6 7 6 5 6 5 5 8 5 5 5 6 6 7 6 6 4 7 6 5 5 5 6 5 5 6 6 4 6\n",
      " 5 6 6 5 7 7 6 5 5 7 7 6 7 7 8 6 5 7 6 5 6 5 7 7 6 8 7 6 6 6 7 6 5 5 3 6 6\n",
      " 6 6 6 4 5 5 6 5 4 6 6 6 6 5 6 5 7 6 6 5 4 6 5 6 6 8 7 6 5 6 6 5 7 6 6 7 5\n",
      " 4 5 5 7 8 6 5 6 6 4 5 5 5 6 6 7 6 7 6 6 6 7 8 6 5 6 6 6 5 6 6 5 5 5 6 5 5\n",
      " 6 5 7 6 6 6 6 6 5 6 6 6 7 6 6 5 6 6 6 6 6 5 7 6 6 6 6 7 7 6 6 6 5 5 6 6 6\n",
      " 6 7 5 6 7 6 5 6 5 5 6 5 7 5 6 6 6 5 6 5 6 5 6 5 6 6 6 7 5 5 5 5 5 4 6 6 7\n",
      " 7 5 6 6 6 4 5 3 3 6 6 6 5 7 6 6 6 6 6 6 6 6 5 6 6 7 6 6 5 6 5 6 6 4 7 6 5\n",
      " 6 6 5 6 5 6 7 6 6 6 5 5 6 5 6 6 5 6 7 6 7 6 6 4 8 8 6 6 7 5 6 6 5 5 6 6 5\n",
      " 4 6 5 6 6 6 6 6 7 6 6 6 6 7 6 6 6 6 6 5 7 3 6 5 5 5 6 6 5 6 5 8 5 5 8 6 5\n",
      " 6 5 5 5 7 6 6 5 7 6 3 6 6 6 7 7 5 6 7 6 6 3 4 7 6 6 4 6 5 5 7 6 5 4 6 5 5\n",
      " 6 6 6 5 6 5 7 6 6 4 6 5 6 6 6 6 6 7 6 6 6 4 6 5 7 4 5 4 7 6 6 5 7 6 6 6 6\n",
      " 6 6 5 5 7 7 6 7 5 6 7 6 6 4 6 5 5 6 7 6 6 4 5 7 7 5 8 6 6 6 6 6 6 5 6 7 7\n",
      " 8 8 4 6 6 6 8 7 7 6 7 7 7 6 6 5 5 5 6 6 6 7 7 7 6 6 5 7 5 6 6 5 5 7 5 7 4\n",
      " 6 6 6 6 7 8 6 5 5 5 5 6 6 5 6 7 8 7 6 6 5 8 5 5 4 6 4 6 6 6 6 6 6 6 6 5 5\n",
      " 8 5 6 6 7 8 6 5 7 6 6 5 7 5 4 6 7 6]\n",
      "0.5316326530612245\n"
     ]
    }
   ],
   "source": [
    "model_ore=np.around (model.predict(x_test))\n",
    "print(model_ore)\n",
    "print(y_test)\n",
    "count_model=0\n",
    "for i in range(len(x_test)):\n",
    "    if(model_ore[i]==y_test[i]):\n",
    "        count_model=count_model+1\n",
    "print(count_model/len(model_ore))"
   ]
  }
 ],
 "metadata": {
  "interpreter": {
   "hash": "b2345e6128660d800caeeaf1f3a6936fcd09960590a8a89cf9fb390fc735dae0"
  },
  "kernelspec": {
   "display_name": "Python 3.8.8 64-bit ('base': conda)",
   "name": "python3"
  },
  "language_info": {
   "codemirror_mode": {
    "name": "ipython",
    "version": 3
   },
   "file_extension": ".py",
   "mimetype": "text/x-python",
   "name": "python",
   "nbconvert_exporter": "python",
   "pygments_lexer": "ipython3",
   "version": "3.8.8"
  }
 },
 "nbformat": 4,
 "nbformat_minor": 4
}
